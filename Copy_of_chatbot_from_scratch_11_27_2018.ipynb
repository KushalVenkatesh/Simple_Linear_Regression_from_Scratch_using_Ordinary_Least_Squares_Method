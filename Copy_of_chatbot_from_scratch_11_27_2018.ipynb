{
  "nbformat": 4,
  "nbformat_minor": 0,
  "metadata": {
    "colab": {
      "name": "Copy of chatbot_from_scratch_11_27_2018.ipynb",
      "version": "0.3.2",
      "provenance": [],
      "include_colab_link": true
    },
    "kernelspec": {
      "display_name": "Python 3",
      "language": "python",
      "name": "python3"
    }
  },
  "cells": [
    {
      "cell_type": "markdown",
      "metadata": {
        "id": "view-in-github",
        "colab_type": "text"
      },
      "source": [
        "<a href=\"https://colab.research.google.com/github/KushalVenkatesh/Simple_Linear_Regression_from_Scratch_using_Ordinary_Least_Squares_Method/blob/master/Copy_of_chatbot_from_scratch_11_27_2018.ipynb\" target=\"_parent\"><img src=\"https://colab.research.google.com/assets/colab-badge.svg\" alt=\"Open In Colab\"/></a>"
      ]
    },
    {
      "metadata": {
        "id": "tGaQDWrF64m8",
        "colab_type": "code",
        "outputId": "bc4913bc-6976-41f9-d541-e763347e0b15",
        "colab": {}
      },
      "cell_type": "code",
      "source": [
        "!pip install nltk"
      ],
      "execution_count": 0,
      "outputs": [
        {
          "output_type": "stream",
          "text": [
            "Requirement already satisfied: nltk in d:\\python3\\lib\\site-packages (3.3)\n",
            "Requirement already satisfied: six in d:\\python3\\lib\\site-packages (from nltk) (1.11.0)\n"
          ],
          "name": "stdout"
        },
        {
          "output_type": "stream",
          "text": [
            "twisted 18.7.0 requires PyHamcrest>=1.9.0, which is not installed.\n",
            "You are using pip version 10.0.1, however version 18.1 is available.\n",
            "You should consider upgrading via the 'python -m pip install --upgrade pip' command.\n"
          ],
          "name": "stderr"
        }
      ]
    },
    {
      "metadata": {
        "id": "qx90Rw2264nF",
        "colab_type": "code",
        "colab": {}
      },
      "cell_type": "code",
      "source": [
        "import nltk"
      ],
      "execution_count": 0,
      "outputs": []
    },
    {
      "metadata": {
        "id": "CYdPZFTZ64nJ",
        "colab_type": "code",
        "outputId": "d6919394-4430-46cc-c215-2b3e9db38461",
        "colab": {}
      },
      "cell_type": "code",
      "source": [
        "# nltk.download()"
      ],
      "execution_count": 0,
      "outputs": [
        {
          "output_type": "stream",
          "text": [
            "showing info https://raw.githubusercontent.com/nltk/nltk_data/gh-pages/index.xml\n"
          ],
          "name": "stdout"
        }
      ]
    },
    {
      "metadata": {
        "id": "FNijo4Gs64nO",
        "colab_type": "code",
        "colab": {}
      },
      "cell_type": "code",
      "source": [
        "import nltk\n",
        "import numpy as np\n",
        "import random\n",
        "import string # to process standard python strings"
      ],
      "execution_count": 0,
      "outputs": []
    },
    {
      "metadata": {
        "id": "u-QTuggc64nS",
        "colab_type": "code",
        "outputId": "b228a0a2-eea0-493a-f5dd-3a65034543bc",
        "colab": {}
      },
      "cell_type": "code",
      "source": [
        "pwd"
      ],
      "execution_count": 0,
      "outputs": [
        {
          "output_type": "execute_result",
          "data": {
            "text/plain": [
              "'D:\\\\python3'"
            ]
          },
          "metadata": {
            "tags": []
          },
          "execution_count": 3
        }
      ]
    },
    {
      "metadata": {
        "id": "M2-l4lAO64nX",
        "colab_type": "code",
        "outputId": "4576acc0-dea7-4872-f1e0-d2b3ee5c4869",
        "colab": {}
      },
      "cell_type": "code",
      "source": [
        "ls"
      ],
      "execution_count": 0,
      "outputs": [
        {
          "output_type": "stream",
          "text": [
            " Volume in drive D is RECOVERY\n",
            " Volume Serial Number is B8C5-8737\n",
            "\n",
            " Directory of D:\\python3\n",
            "\n",
            "11/27/2018  06:38 PM    <DIR>          .\n",
            "11/27/2018  06:38 PM    <DIR>          ..\n",
            "11/27/2018  06:19 PM    <DIR>          .ipynb_checkpoints\n",
            "11/26/2018  09:23 PM    <DIR>          __pycache__\n",
            "04/20/2018  06:58 PM            19,208 api-ms-win-core-console-l1-1-0.dll\n",
            "04/20/2018  06:58 PM            18,696 api-ms-win-core-datetime-l1-1-0.dll\n",
            "04/20/2018  06:58 PM            18,696 api-ms-win-core-debug-l1-1-0.dll\n",
            "04/20/2018  06:58 PM            18,696 api-ms-win-core-errorhandling-l1-1-0.dll\n",
            "04/20/2018  06:59 PM            22,280 api-ms-win-core-file-l1-1-0.dll\n",
            "04/20/2018  07:07 PM            18,696 api-ms-win-core-file-l1-2-0.dll\n",
            "04/20/2018  07:07 PM            18,696 api-ms-win-core-file-l2-1-0.dll\n",
            "04/20/2018  07:07 PM            18,696 api-ms-win-core-handle-l1-1-0.dll\n",
            "04/20/2018  07:07 PM            19,208 api-ms-win-core-heap-l1-1-0.dll\n",
            "04/20/2018  07:07 PM            18,696 api-ms-win-core-interlocked-l1-1-0.dll\n",
            "04/20/2018  07:07 PM            19,720 api-ms-win-core-libraryloader-l1-1-0.dll\n",
            "04/20/2018  07:07 PM            21,256 api-ms-win-core-localization-l1-2-0.dll\n",
            "04/20/2018  07:07 PM            19,208 api-ms-win-core-memory-l1-1-0.dll\n",
            "04/20/2018  07:07 PM            18,696 api-ms-win-core-namedpipe-l1-1-0.dll\n",
            "04/20/2018  07:07 PM            19,720 api-ms-win-core-processenvironment-l1-1-0.dll\n",
            "04/20/2018  07:07 PM            20,744 api-ms-win-core-processthreads-l1-1-0.dll\n",
            "04/20/2018  07:07 PM            19,208 api-ms-win-core-processthreads-l1-1-1.dll\n",
            "04/20/2018  07:07 PM            18,184 api-ms-win-core-profile-l1-1-0.dll\n",
            "04/20/2018  07:07 PM            19,208 api-ms-win-core-rtlsupport-l1-1-0.dll\n",
            "04/20/2018  07:07 PM            18,696 api-ms-win-core-string-l1-1-0.dll\n",
            "04/20/2018  07:07 PM            20,744 api-ms-win-core-synch-l1-1-0.dll\n",
            "04/20/2018  07:07 PM            19,208 api-ms-win-core-synch-l1-2-0.dll\n",
            "04/20/2018  07:07 PM            19,720 api-ms-win-core-sysinfo-l1-1-0.dll\n",
            "04/20/2018  07:07 PM            19,208 api-ms-win-core-timezone-l1-1-0.dll\n",
            "04/20/2018  07:07 PM            18,696 api-ms-win-core-util-l1-1-0.dll\n",
            "04/20/2018  07:07 PM            19,720 api-ms-win-crt-conio-l1-1-0.dll\n",
            "04/20/2018  07:07 PM            22,792 api-ms-win-crt-convert-l1-1-0.dll\n",
            "04/20/2018  07:07 PM            19,208 api-ms-win-crt-environment-l1-1-0.dll\n",
            "04/20/2018  07:07 PM            20,744 api-ms-win-crt-filesystem-l1-1-0.dll\n",
            "04/20/2018  07:07 PM            19,720 api-ms-win-crt-heap-l1-1-0.dll\n",
            "04/20/2018  07:07 PM            19,208 api-ms-win-crt-locale-l1-1-0.dll\n",
            "04/20/2018  07:07 PM            27,912 api-ms-win-crt-math-l1-1-0.dll\n",
            "04/20/2018  07:07 PM            26,888 api-ms-win-crt-multibyte-l1-1-0.dll\n",
            "04/20/2018  07:07 PM            71,432 api-ms-win-crt-private-l1-1-0.dll\n",
            "04/20/2018  07:07 PM            19,720 api-ms-win-crt-process-l1-1-0.dll\n",
            "04/20/2018  07:07 PM            23,304 api-ms-win-crt-runtime-l1-1-0.dll\n",
            "04/20/2018  07:07 PM            24,840 api-ms-win-crt-stdio-l1-1-0.dll\n",
            "04/20/2018  07:07 PM            24,840 api-ms-win-crt-string-l1-1-0.dll\n",
            "04/20/2018  07:07 PM            21,256 api-ms-win-crt-time-l1-1-0.dll\n",
            "04/20/2018  07:07 PM            19,208 api-ms-win-crt-utility-l1-1-0.dll\n",
            "11/26/2018  09:37 PM               598 app.py\n",
            "11/26/2018  09:38 PM               149 appli123.py\n",
            "11/25/2018  05:40 PM           245,948 applied ML.ipynb\n",
            "11/27/2018  06:37 PM             2,016 chatbot_from_scratch_11_27_2018.ipynb\n",
            "11/26/2018  09:25 PM            45,884 chatbot2018.ipynb\n",
            "11/27/2018  06:38 PM             1,486 chatbotwiki.txt\n",
            "09/21/2018  01:53 AM           329,368 concrt140.dll\n",
            "11/25/2018  10:44 AM    <DIR>          conda-meta\n",
            "11/25/2018  12:16 PM            94,746 credit_risk_analysis_AVDay2session1.ipynb\n",
            "11/25/2018  11:08 AM               334 creditRisk.csv\n",
            "08/29/2018  12:31 AM             1,093 cwp.py\n",
            "11/26/2018  09:39 PM           286,720 db.sqlite3\n",
            "11/25/2018  10:43 AM    <DIR>          DLLs\n",
            "11/25/2018  10:44 AM    <DIR>          envs\n",
            "11/25/2018  10:44 AM    <DIR>          etc\n",
            "11/26/2018  07:50 PM    <DIR>          flask-chatterbot-master (1)\n",
            "11/25/2018  12:58 PM           210,352 historical_loan.csv\n",
            "11/25/2018  10:43 AM    <DIR>          include\n",
            "11/25/2018  10:43 AM    <DIR>          Lib\n",
            "11/25/2018  10:43 AM    <DIR>          Library\n",
            "11/25/2018  10:43 AM    <DIR>          libs\n",
            "06/27/2018  09:37 AM            12,763 LICENSE_PYTHON.txt\n",
            "11/25/2018  10:43 AM    <DIR>          man\n",
            "11/25/2018  10:44 AM    <DIR>          Menu\n",
            "09/21/2018  01:53 AM           625,808 msvcp140.dll\n",
            "09/21/2018  01:53 AM            31,896 msvcp140_1.dll\n",
            "09/21/2018  01:53 AM           195,248 msvcp140_2.dll\n",
            "08/14/2018  08:12 PM           506,880 openssl.exe\n",
            "11/25/2018  10:43 AM    <DIR>          pkgs\n",
            "06/28/2018  07:36 PM            93,696 python.exe\n",
            "06/28/2018  07:36 PM           430,080 python.pdb\n",
            "11/26/2018  09:20 PM             9,727 python2vspython3.ipynb\n",
            "06/28/2018  07:36 PM            51,712 python3.dll\n",
            "06/28/2018  07:35 PM         3,843,072 python37.dll\n",
            "06/28/2018  07:35 PM         9,916,416 python37.pdb\n",
            "06/28/2018  07:36 PM            92,160 pythonw.exe\n",
            "06/28/2018  07:36 PM           430,080 pythonw.pdb\n",
            "11/25/2018  10:43 AM               199 qt.conf\n",
            "11/26/2018  09:38 PM               140 requirements.txt\n",
            "11/26/2018  08:02 PM    <DIR>          Scripts\n",
            "11/25/2018  10:43 AM    <DIR>          share\n",
            "11/25/2018  10:43 AM    <DIR>          sip\n",
            "11/25/2018  10:43 AM    <DIR>          tcl\n",
            "11/25/2018  10:43 AM    <DIR>          Tools\n",
            "04/20/2018  07:07 PM         1,016,584 ucrtbase.dll\n",
            "11/25/2018  10:44 AM           302,868 Uninstall-Anaconda3.exe\n",
            "11/25/2018  11:09 AM               555 Untitled.ipynb\n",
            "11/26/2018  09:35 PM               733 Untitled1.ipynb\n",
            "11/26/2018  09:38 PM               555 Untitled2.ipynb\n",
            "09/21/2018  01:53 AM           386,720 vccorlib140.dll\n",
            "09/21/2018  01:53 AM           155,280 vcomp140.dll\n",
            "09/21/2018  01:53 AM            87,200 vcruntime140.dll\n",
            "11/08/2018  05:52 PM             8,248 vscode_eula.txt\n",
            "05/14/2018  03:53 AM           293,888 xlwings32-0.11.8.dll\n",
            "05/14/2018  03:53 AM           367,104 xlwings64-0.11.8.dll\n",
            "              78 File(s)     20,942,882 bytes\n",
            "              21 Dir(s)   3,912,818,688 bytes free\n"
          ],
          "name": "stdout"
        }
      ]
    },
    {
      "metadata": {
        "id": "0KH9Ut-t64nc",
        "colab_type": "code",
        "outputId": "1e271a69-8bdd-496a-8c19-19c61d94ad79",
        "colab": {}
      },
      "cell_type": "code",
      "source": [
        "f=open('chatbot.txt','r',errors = 'ignore')\n",
        "raw=f.read()\n",
        "raw=raw.lower()# converts to lowercase\n",
        "nltk.download('punkt') # first-time use only\n",
        "nltk.download('wordnet') # first-time use only\n",
        "sent_tokens = nltk.sent_tokenize(raw)# converts to list of sentences \n",
        "word_tokens = nltk.word_tokenize(raw)# converts to list of words\n"
      ],
      "execution_count": 0,
      "outputs": [
        {
          "output_type": "stream",
          "text": [
            "[nltk_data] Downloading package punkt to\n",
            "[nltk_data]     C:\\Users\\kusha\\AppData\\Roaming\\nltk_data...\n",
            "[nltk_data]   Package punkt is already up-to-date!\n",
            "[nltk_data] Downloading package wordnet to\n",
            "[nltk_data]     C:\\Users\\kusha\\AppData\\Roaming\\nltk_data...\n",
            "[nltk_data]   Unzipping corpora\\wordnet.zip.\n"
          ],
          "name": "stdout"
        }
      ]
    },
    {
      "metadata": {
        "id": "v2pm4KZ_64nf",
        "colab_type": "code",
        "outputId": "eee56700-fb18-47e0-a737-a47cc4d5c1c1",
        "colab": {}
      },
      "cell_type": "code",
      "source": [
        "sent_tokens[:2]"
      ],
      "execution_count": 0,
      "outputs": [
        {
          "output_type": "execute_result",
          "data": {
            "text/plain": [
              "['a chatbot (also known as a smartbots, talkbot, chatterbot, bot, im bot, interactive agent, conversational interface or artificial conversational entity) is a computer program or an artificial intelligence which conducts a conversation via auditory or textual methods.',\n",
              " '[1] such programs are often designed to convincingly simulate how a human would behave as a conversational partner, thereby passing the turing test.']"
            ]
          },
          "metadata": {
            "tags": []
          },
          "execution_count": 7
        }
      ]
    },
    {
      "metadata": {
        "id": "E6JS83rL64nk",
        "colab_type": "code",
        "outputId": "0d622bc3-8cac-46c3-fbb7-09d4a2672fb1",
        "colab": {}
      },
      "cell_type": "code",
      "source": [
        "sent_tokens"
      ],
      "execution_count": 0,
      "outputs": [
        {
          "output_type": "execute_result",
          "data": {
            "text/plain": [
              "['a chatbot (also known as a smartbots, talkbot, chatterbot, bot, im bot, interactive agent, conversational interface or artificial conversational entity) is a computer program or an artificial intelligence which conducts a conversation via auditory or textual methods.',\n",
              " '[1] such programs are often designed to convincingly simulate how a human would behave as a conversational partner, thereby passing the turing test.',\n",
              " 'chatbots are typically used in dialog systems for various practical purposes including customer service or information acquisition.',\n",
              " 'some chatterbots use sophisticated natural language processing systems, but many simpler systems scan for keywords within the input, then pull a reply with the most matching keywords, or the most similar wording pattern, from a database.',\n",
              " 'the term \"chatterbot\" was originally coined by michael mauldin (creator of the first verbot, julia) in 1994 to describe these conversational programs.',\n",
              " \"[2] today, most chatbots are either accessed via virtual assistants such as google assistant and amazon alexa, via messaging apps such as facebook messenger or wechat, or via individual organizations' apps and websites.\",\n",
              " '[3][4] chatbots can be classified into usage categories such as conversational commerce (e-commerce via chat), analytics, communication, customer support, design, developer tools, education, entertainment, finance, food, games, health, hr, marketing, news, personal, productivity, shopping, social, sports, travel and utilities.']"
            ]
          },
          "metadata": {
            "tags": []
          },
          "execution_count": 8
        }
      ]
    },
    {
      "metadata": {
        "id": "1FgGOq_H64np",
        "colab_type": "code",
        "outputId": "4919108e-b045-4794-bdd4-32223b3cd8dd",
        "colab": {}
      },
      "cell_type": "code",
      "source": [
        "word_tokens[:2]"
      ],
      "execution_count": 0,
      "outputs": [
        {
          "output_type": "execute_result",
          "data": {
            "text/plain": [
              "['a', 'chatbot']"
            ]
          },
          "metadata": {
            "tags": []
          },
          "execution_count": 9
        }
      ]
    },
    {
      "metadata": {
        "id": "DKsTFWJy64ny",
        "colab_type": "code",
        "outputId": "16f7d00f-e25c-48f1-b963-b20ca803bff9",
        "colab": {}
      },
      "cell_type": "code",
      "source": [
        "word_tokens"
      ],
      "execution_count": 0,
      "outputs": [
        {
          "output_type": "execute_result",
          "data": {
            "text/plain": [
              "['a',\n",
              " 'chatbot',\n",
              " '(',\n",
              " 'also',\n",
              " 'known',\n",
              " 'as',\n",
              " 'a',\n",
              " 'smartbots',\n",
              " ',',\n",
              " 'talkbot',\n",
              " ',',\n",
              " 'chatterbot',\n",
              " ',',\n",
              " 'bot',\n",
              " ',',\n",
              " 'im',\n",
              " 'bot',\n",
              " ',',\n",
              " 'interactive',\n",
              " 'agent',\n",
              " ',',\n",
              " 'conversational',\n",
              " 'interface',\n",
              " 'or',\n",
              " 'artificial',\n",
              " 'conversational',\n",
              " 'entity',\n",
              " ')',\n",
              " 'is',\n",
              " 'a',\n",
              " 'computer',\n",
              " 'program',\n",
              " 'or',\n",
              " 'an',\n",
              " 'artificial',\n",
              " 'intelligence',\n",
              " 'which',\n",
              " 'conducts',\n",
              " 'a',\n",
              " 'conversation',\n",
              " 'via',\n",
              " 'auditory',\n",
              " 'or',\n",
              " 'textual',\n",
              " 'methods',\n",
              " '.',\n",
              " '[',\n",
              " '1',\n",
              " ']',\n",
              " 'such',\n",
              " 'programs',\n",
              " 'are',\n",
              " 'often',\n",
              " 'designed',\n",
              " 'to',\n",
              " 'convincingly',\n",
              " 'simulate',\n",
              " 'how',\n",
              " 'a',\n",
              " 'human',\n",
              " 'would',\n",
              " 'behave',\n",
              " 'as',\n",
              " 'a',\n",
              " 'conversational',\n",
              " 'partner',\n",
              " ',',\n",
              " 'thereby',\n",
              " 'passing',\n",
              " 'the',\n",
              " 'turing',\n",
              " 'test',\n",
              " '.',\n",
              " 'chatbots',\n",
              " 'are',\n",
              " 'typically',\n",
              " 'used',\n",
              " 'in',\n",
              " 'dialog',\n",
              " 'systems',\n",
              " 'for',\n",
              " 'various',\n",
              " 'practical',\n",
              " 'purposes',\n",
              " 'including',\n",
              " 'customer',\n",
              " 'service',\n",
              " 'or',\n",
              " 'information',\n",
              " 'acquisition',\n",
              " '.',\n",
              " 'some',\n",
              " 'chatterbots',\n",
              " 'use',\n",
              " 'sophisticated',\n",
              " 'natural',\n",
              " 'language',\n",
              " 'processing',\n",
              " 'systems',\n",
              " ',',\n",
              " 'but',\n",
              " 'many',\n",
              " 'simpler',\n",
              " 'systems',\n",
              " 'scan',\n",
              " 'for',\n",
              " 'keywords',\n",
              " 'within',\n",
              " 'the',\n",
              " 'input',\n",
              " ',',\n",
              " 'then',\n",
              " 'pull',\n",
              " 'a',\n",
              " 'reply',\n",
              " 'with',\n",
              " 'the',\n",
              " 'most',\n",
              " 'matching',\n",
              " 'keywords',\n",
              " ',',\n",
              " 'or',\n",
              " 'the',\n",
              " 'most',\n",
              " 'similar',\n",
              " 'wording',\n",
              " 'pattern',\n",
              " ',',\n",
              " 'from',\n",
              " 'a',\n",
              " 'database',\n",
              " '.',\n",
              " 'the',\n",
              " 'term',\n",
              " '``',\n",
              " 'chatterbot',\n",
              " \"''\",\n",
              " 'was',\n",
              " 'originally',\n",
              " 'coined',\n",
              " 'by',\n",
              " 'michael',\n",
              " 'mauldin',\n",
              " '(',\n",
              " 'creator',\n",
              " 'of',\n",
              " 'the',\n",
              " 'first',\n",
              " 'verbot',\n",
              " ',',\n",
              " 'julia',\n",
              " ')',\n",
              " 'in',\n",
              " '1994',\n",
              " 'to',\n",
              " 'describe',\n",
              " 'these',\n",
              " 'conversational',\n",
              " 'programs',\n",
              " '.',\n",
              " '[',\n",
              " '2',\n",
              " ']',\n",
              " 'today',\n",
              " ',',\n",
              " 'most',\n",
              " 'chatbots',\n",
              " 'are',\n",
              " 'either',\n",
              " 'accessed',\n",
              " 'via',\n",
              " 'virtual',\n",
              " 'assistants',\n",
              " 'such',\n",
              " 'as',\n",
              " 'google',\n",
              " 'assistant',\n",
              " 'and',\n",
              " 'amazon',\n",
              " 'alexa',\n",
              " ',',\n",
              " 'via',\n",
              " 'messaging',\n",
              " 'apps',\n",
              " 'such',\n",
              " 'as',\n",
              " 'facebook',\n",
              " 'messenger',\n",
              " 'or',\n",
              " 'wechat',\n",
              " ',',\n",
              " 'or',\n",
              " 'via',\n",
              " 'individual',\n",
              " 'organizations',\n",
              " \"'\",\n",
              " 'apps',\n",
              " 'and',\n",
              " 'websites',\n",
              " '.',\n",
              " '[',\n",
              " '3',\n",
              " ']',\n",
              " '[',\n",
              " '4',\n",
              " ']',\n",
              " 'chatbots',\n",
              " 'can',\n",
              " 'be',\n",
              " 'classified',\n",
              " 'into',\n",
              " 'usage',\n",
              " 'categories',\n",
              " 'such',\n",
              " 'as',\n",
              " 'conversational',\n",
              " 'commerce',\n",
              " '(',\n",
              " 'e-commerce',\n",
              " 'via',\n",
              " 'chat',\n",
              " ')',\n",
              " ',',\n",
              " 'analytics',\n",
              " ',',\n",
              " 'communication',\n",
              " ',',\n",
              " 'customer',\n",
              " 'support',\n",
              " ',',\n",
              " 'design',\n",
              " ',',\n",
              " 'developer',\n",
              " 'tools',\n",
              " ',',\n",
              " 'education',\n",
              " ',',\n",
              " 'entertainment',\n",
              " ',',\n",
              " 'finance',\n",
              " ',',\n",
              " 'food',\n",
              " ',',\n",
              " 'games',\n",
              " ',',\n",
              " 'health',\n",
              " ',',\n",
              " 'hr',\n",
              " ',',\n",
              " 'marketing',\n",
              " ',',\n",
              " 'news',\n",
              " ',',\n",
              " 'personal',\n",
              " ',',\n",
              " 'productivity',\n",
              " ',',\n",
              " 'shopping',\n",
              " ',',\n",
              " 'social',\n",
              " ',',\n",
              " 'sports',\n",
              " ',',\n",
              " 'travel',\n",
              " 'and',\n",
              " 'utilities',\n",
              " '.']"
            ]
          },
          "metadata": {
            "tags": []
          },
          "execution_count": 10
        }
      ]
    },
    {
      "metadata": {
        "id": "Zno4FDFk64n2",
        "colab_type": "code",
        "colab": {}
      },
      "cell_type": "code",
      "source": [
        "lemmer = nltk.stem.WordNetLemmatizer()\n",
        "#WordNet is a semantically-oriented dictionary of English included in NLTK.\n",
        "def LemTokens(tokens):\n",
        "    return [lemmer.lemmatize(token) for token in tokens]\n",
        "remove_punct_dict = dict((ord(punct), None) for punct in string.punctuation)\n",
        "def LemNormalize(text):\n",
        "    return LemTokens(nltk.word_tokenize(text.lower().translate(remove_punct_dict)))"
      ],
      "execution_count": 0,
      "outputs": []
    },
    {
      "metadata": {
        "id": "6LQC6R-q64n5",
        "colab_type": "code",
        "colab": {}
      },
      "cell_type": "code",
      "source": [
        "GREETING_INPUTS = (\"hello\", \"hi\", \"greetings\", \"sup\", \"what's up\",\"hey\",)\n",
        "GREETING_RESPONSES = [\"hi\", \"hey\", \"*nods*\", \"hi there\", \"hello\", \"I am glad! You are talking to me\"]\n",
        "def greeting(sentence):\n",
        " \n",
        "    for word in sentence.split():\n",
        "        if word.lower() in GREETING_INPUTS:\n",
        "            return random.choice(GREETING_RESPONSES)"
      ],
      "execution_count": 0,
      "outputs": []
    },
    {
      "metadata": {
        "id": "oN2EkJB364n9",
        "colab_type": "code",
        "colab": {}
      },
      "cell_type": "code",
      "source": [
        "from sklearn.feature_extraction.text import TfidfVectorizer"
      ],
      "execution_count": 0,
      "outputs": []
    },
    {
      "metadata": {
        "id": "HyIeM95S64oC",
        "colab_type": "code",
        "colab": {}
      },
      "cell_type": "code",
      "source": [
        "from sklearn.metrics.pairwise import cosine_similarity"
      ],
      "execution_count": 0,
      "outputs": []
    },
    {
      "metadata": {
        "id": "1CaeEK7q64oF",
        "colab_type": "code",
        "colab": {}
      },
      "cell_type": "code",
      "source": [
        "def response(user_response):\n",
        "    robo_response=''\n",
        "    TfidfVec = TfidfVectorizer(tokenizer=LemNormalize, stop_words='english')\n",
        "    tfidf = TfidfVec.fit_transform(sent_tokens)\n",
        "    vals = cosine_similarity(tfidf[-1], tfidf)\n",
        "    idx=vals.argsort()[0][-2]\n",
        "    flat = vals.flatten()\n",
        "    flat.sort()\n",
        "    req_tfidf = flat[-2]\n",
        "    if(req_tfidf==0):\n",
        "        robo_response=robo_response+\"I am sorry! I don't understand you\"\n",
        "        return robo_response\n",
        "    else:\n",
        "        robo_response = robo_response+sent_tokens[idx]\n",
        "        return robo_response"
      ],
      "execution_count": 0,
      "outputs": []
    },
    {
      "metadata": {
        "id": "FKJDt-3T64oH",
        "colab_type": "code",
        "outputId": "494ed97f-d299-44d8-c6fc-bd4bb318db0c",
        "colab": {}
      },
      "cell_type": "code",
      "source": [
        "flag=True\n",
        "print(\"ROBO: My name is Robo. I will answer your queries about Chatbots. If you want to exit, type Bye!\")\n",
        "while(flag==True):\n",
        "    user_response = input()\n",
        "    user_response=user_response.lower()\n",
        "    if(user_response!='bye'):\n",
        "        if(user_response=='thanks' or user_response=='thank you' ):\n",
        "            flag=False\n",
        "            print(\"ROBO: You are welcome..\")\n",
        "        else:\n",
        "            if(greeting(user_response)!=None):\n",
        "                print(\"ROBO: \"+greeting(user_response))\n",
        "            else:\n",
        "                sent_tokens.append(user_response)\n",
        "                word_tokens=word_tokens+nltk.word_tokenize(user_response)\n",
        "                final_words=list(set(word_tokens))\n",
        "                print(\"ROBO: \",end=\"\")\n",
        "                print(response(user_response))\n",
        "                sent_tokens.remove(user_response)\n",
        "    else:\n",
        "        flag=False\n",
        "        print(\"ROBO: Bye! take care..\")"
      ],
      "execution_count": 0,
      "outputs": [
        {
          "output_type": "stream",
          "text": [
            "ROBO: My name is Robo. I will answer your queries about Chatbots. If you want to exit, type Bye!\n",
            "what's up\n",
            "ROBO: I am sorry! I don't understand you\n",
            "\"what's up\"\n",
            "ROBO: I am sorry! I don't understand you\n",
            "what's up?\n",
            "ROBO: I am sorry! I don't understand you\n",
            "sup\n",
            "ROBO: hey\n",
            "sup\n",
            "ROBO: *nods*\n",
            "sup\n",
            "ROBO: hi there\n",
            "sup\n",
            "ROBO: *nods*\n",
            "hey\n",
            "ROBO: hi there\n",
            "greetings\n",
            "ROBO: hi\n",
            "hello\n",
            "ROBO: I am glad! You are talking to me\n",
            "Bye!\n",
            "ROBO: I am sorry! I don't understand you\n",
            "bye\n",
            "ROBO: Bye! take care..\n"
          ],
          "name": "stdout"
        }
      ]
    },
    {
      "metadata": {
        "id": "otA_1tDu64oL",
        "colab_type": "code",
        "colab": {}
      },
      "cell_type": "code",
      "source": [
        ""
      ],
      "execution_count": 0,
      "outputs": []
    }
  ]
}